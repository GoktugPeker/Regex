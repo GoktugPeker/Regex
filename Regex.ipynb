{
 "cells": [
  {
   "cell_type": "code",
   "execution_count": 1,
   "id": "7c0244fa",
   "metadata": {},
   "outputs": [
    {
     "name": "stdout",
     "output_type": "stream",
     "text": [
      "Terry-Thomas;Filling the Gap;1959\n",
      "Harpo Marx;Harpo Speaks;1961\n",
      "Charlie Chaplin;My Autobiography;1964\n",
      "Moe Howard;Moe Howard and the Three Stooges, AKA I Came, I Stooged, I Conquered (released posthumously);1974\n",
      "Sid Caesar;Where Have I Been?;1982\n",
      "Bill Cosby;Fatherhood;1986\n",
      "Mel Blanc;That's NOT All, Folks;1988\n",
      "Gilda Radner;It's Always Something;1989\n",
      "Richard Pryor;Pryor Convictions;1995\n",
      "Damon Wayans;Bootleg;1996\n",
      "Stephen Fry;Moab Is My Washpot;1997\n",
      "Jenny McCarthy;Jen-X: My Open Book;1997\n",
      "Chris Rock;Rock This;1997\n",
      "Sandra Bernhard;Confessions of a Pretty Lady;1998\n",
      "Danny Bonaduce;Random Acts of Badness;2001\n",
      "Fran Drescher;Cancer Schmancer;2002\n",
      "Alan Thicke;How Men Have Babies: a New Father's Survival Guide;2003\n",
      "Rodney Dangerfield;It's Not Easy Being Me: a Lifetime of No Respect But Plenty of Sex and Drugs;2004\n",
      "Tom Green;Hollywood Causes Cancer;2004\n",
      "Rik Mayall;Bigger Than Hitler & Better Than Christ;2005\n",
      "Tommy Chong;The I Chong: Meditations From the Joint;2006\n",
      "Alan Thicke;How to Raise Kids Who Won't Hate You;2006\n",
      "Steve Martin;Born Standing Up;2007\n",
      "Denis Leary;Why We Suck;2008\n",
      "Stephen Fry;Ernie: The Autobiography;2009\n",
      "Frankie Boyle;My Shit Life So Far;2009\n",
      "Craig Ferguson;American on Purpose;2009\n",
      "Todd Bridges;Killing Willis;2010\n",
      "Kevin Smith;Tough Sh*t: Life Advice from a Fat, Lazy Slob Who Still Made Good;2012\n",
      "Jimmie Walker;Dyn-o-mite!;2012\n",
      "Andrew Dice Clay;The Filthy Truth;2014\n",
      "John Cleese;So, Anyway...;2014\n",
      "Cheech Marin;Cheech Is Not My Real Name...But Don't Call Me Chong!;2017\n",
      "Eric Idle;Always Look On the Bright Side Of Life;2018\n"
     ]
    }
   ],
   "source": [
    "file=open('./bookshelf.txt')\n",
    "string=file.read()\n",
    "print(string)"
   ]
  },
  {
   "cell_type": "markdown",
   "id": "e87fd103",
   "metadata": {},
   "source": [
    "##### in between the double quotes, that will match all the book titles in the file that end with the letter p."
   ]
  },
  {
   "cell_type": "code",
   "execution_count": 20,
   "id": "d37b1230",
   "metadata": {},
   "outputs": [
    {
     "name": "stdout",
     "output_type": "stream",
     "text": [
      "['Filling the Gap', 'Born Standing Up']\n"
     ]
    }
   ],
   "source": [
    "import re\n",
    "\n",
    "result1=re.findall(r\";([^;]*p)[^;]*;\",string,re.M)\n",
    "result2 = re.findall(r\".+?;(.+p);.+?\", string)\n",
    "result3 = re.findall(r\";(.+p);\", string)\n",
    "print (result3)"
   ]
  },
  {
   "cell_type": "markdown",
   "id": "85068620",
   "metadata": {},
   "source": [
    "##### in between the double quotes, that will match all the authors in the file whose last name starts with the letter B."
   ]
  },
  {
   "cell_type": "code",
   "execution_count": 33,
   "id": "2796b746",
   "metadata": {},
   "outputs": [
    {
     "name": "stdout",
     "output_type": "stream",
     "text": [
      "['Blanc', 'Bernhard', 'Bonaduce', 'Boyle', 'Bridges']\n",
      "['Blanc', 'Bernhard', 'Bonaduce', 'Boyle', 'Bridges']\n"
     ]
    }
   ],
   "source": [
    "result1=re.findall(r\".+(B.+);.+;\",string) #Greedy\n",
    "result2=re.findall(r\".+(B.+?);.+;\",string) #Non-Greedy\n",
    "print(result1)\n",
    "print(result2)"
   ]
  },
  {
   "cell_type": "markdown",
   "id": "0f9ce6ef",
   "metadata": {},
   "source": [
    "##### in between the double quotes, that will match all the books in the file that have been published between 1980 and 1999."
   ]
  },
  {
   "cell_type": "code",
   "execution_count": 70,
   "id": "92b970bb",
   "metadata": {},
   "outputs": [
    {
     "data": {
      "text/plain": [
       "['Where Have I Been?',\n",
       " 'Fatherhood',\n",
       " \"That's NOT All, Folks\",\n",
       " \"It's Always Something\",\n",
       " 'Pryor Convictions',\n",
       " 'Bootleg',\n",
       " 'Moab Is My Washpot',\n",
       " 'Jen-X: My Open Book',\n",
       " 'Rock This',\n",
       " 'Confessions of a Pretty Lady']"
      ]
     },
     "execution_count": 70,
     "metadata": {},
     "output_type": "execute_result"
    }
   ],
   "source": [
    "result=re.findall(r\".+?;(.+?);19[8-9][0-9]|1990\",string)\n",
    "result"
   ]
  },
  {
   "cell_type": "code",
   "execution_count": 71,
   "id": "95d3aa6e",
   "metadata": {},
   "outputs": [
    {
     "name": "stdout",
     "output_type": "stream",
     "text": [
      "Zion Martinez\t(631) 472-4834\n",
      "Moriah Velez\t(201) 684-8134\n",
      "Jenna Peterson\t(355) 554-9561\n",
      "Ayaan Novak\t(812) 883-7304\n",
      "Elena Sosa\t(504) 478-1208\n",
      "Taniyah Lucas\t(949) 304-4647\n",
      "Maritza Ramos\t(295) 931-1193\n",
      "Maryjane Velazquez\t(409) 441-2612\n",
      "Oliver Cooper\t(917) 965-9749\n",
      "Max Bridges\t(665) 245-0683\n",
      "Craig Sutton\t(783) 281-6115\n",
      "Emilie Good\t(608) 628-4088\n",
      "Alexis Rowe\t(357) 540-2991\n",
      "Maxwell Rose\t(366) 809-5605\n",
      "Davin Carroll\t(508) 291-1622\n",
      "Riya Foster\t(461) 532-0795\n",
      "Kymani Pena\t(366) 683-3252\n",
      "Josie Lloyd\t(676) 509-5720\n",
      "Amy Fowler\t(630) 821-5787\n",
      "Zion Strickland\t(443) 372-0040\n",
      "Jermaine Roy\t(576) 876-2490\n",
      "Sasha Duncan\t(379) 596-5662\n",
      "Guillermo Pacheco\t(922) 634-5795\n",
      "Mohammad Tapia\t(969) 831-7093\n",
      "Samir Mcdonald\t(546) 420-0881\n",
      "Sidney Mcdaniel\t(783) 705-9254\n",
      "Cameron Terry\t(540) 878-9323\n",
      "Kyla Waters\t(319) 523-8400\n",
      "Paloma Tyler\t(709) 788-9820\n",
      "Carolyn Peck\t(878) 309-5141\n",
      "Aliana Murillo\t(681) 897-9813\n",
      "Harold Stark\t(995) 575-6794\n",
      "Tomas Acevedo\t(526) 889-3684\n",
      "Jayla Whitney\t(790) 295-4491\n",
      "Linda Casey\t(596) 279-2188\n",
      "Shelby Gutierrez\t(266) 441-0506\n",
      "Scarlett Pugh\t(205) 887-2552\n",
      "Tobias Joseph\t(894) 486-4422\n",
      "Meadow Pennington\t(789) 483-7632\n",
      "Jeremy Tucker\t(768) 454-3347\n",
      "Giovani Hill\t(859) 512-3285\n",
      "Lorelei Chase\t(527) 510-6364\n",
      "Anabella Wolf\t(370) 917-1457\n",
      "Dominick Cobb\t(831) 874-8695\n",
      "Ismael Montoya\t(397) 258-5867\n",
      "Charles Santiago\t(804) 306-7622\n",
      "Eva Galvan\t(836) 732-4963\n",
      "Branden Cantu\t(862) 408-5783\n",
      "Patricia Dodson\t(685) 849-8192\n",
      "Marina Chan\t(600) 464-2106\n",
      "\n"
     ]
    }
   ],
   "source": [
    "file=open('./phone.txt')\n",
    "string=file.read()\n",
    "print(string)"
   ]
  },
  {
   "cell_type": "markdown",
   "id": "66bc1167",
   "metadata": {},
   "source": [
    "### Getting surname of each person and Last 8 character where Area code ends with 0"
   ]
  },
  {
   "cell_type": "code",
   "execution_count": null,
   "id": "a676592f",
   "metadata": {},
   "outputs": [
    {
     "data": {
      "text/plain": [
       "[('Fowler', '821-5787'),\n",
       " ('Terry', '878-9323'),\n",
       " ('Whitney', '295-4491'),\n",
       " ('Wolf', '917-1457'),\n",
       " ('Chan', '464-2106')]"
      ]
     },
     "execution_count": 98,
     "metadata": {},
     "output_type": "execute_result"
    }
   ],
   "source": [
    "result=re.findall(r\".+? (.+)\\t\\(\\d\\d0\\)\\s(.+)\",string) #\\d\\d\\0 2 digits followed by zero \"\\(\" escape from \"(\"\n",
    "result"
   ]
  },
  {
   "cell_type": "markdown",
   "id": "d356ee65",
   "metadata": {},
   "source": [
    "##### Area Code of each Phone Number ends with 7"
   ]
  },
  {
   "cell_type": "code",
   "execution_count": 137,
   "id": "f82aed00",
   "metadata": {},
   "outputs": [
    {
     "data": {
      "text/plain": [
       "['949', '630', '768', '370', '397']"
      ]
     },
     "execution_count": 137,
     "metadata": {},
     "output_type": "execute_result"
    }
   ],
   "source": [
    "result=re.findall(r\".+\\t\\((.+?\\d\\d*).+-.+7$\",string,re.M)\n",
    "result"
   ]
  },
  {
   "cell_type": "markdown",
   "id": "a1d024e1",
   "metadata": {},
   "source": [
    "##### in between the double quotes, that will match all the persons (first and last name) in the file whose phone number starts with an odd digit (1, 3, 5, 7, 9)."
   ]
  },
  {
   "cell_type": "code",
   "execution_count": 145,
   "id": "457ca068",
   "metadata": {},
   "outputs": [
    {
     "data": {
      "text/plain": [
       "['Jenna Peterson',\n",
       " 'Taniyah Lucas',\n",
       " 'Maritza Ramos',\n",
       " 'Oliver Cooper',\n",
       " 'Alexis Rowe',\n",
       " 'Riya Foster',\n",
       " 'Josie Lloyd',\n",
       " 'Zion Strickland',\n",
       " 'Sasha Duncan',\n",
       " 'Sidney Mcdaniel',\n",
       " 'Kyla Waters',\n",
       " 'Paloma Tyler',\n",
       " 'Carolyn Peck',\n",
       " 'Harold Stark',\n",
       " 'Giovani Hill',\n",
       " 'Lorelei Chase',\n",
       " 'Anabella Wolf',\n",
       " 'Charles Santiago',\n",
       " 'Eva Galvan']"
      ]
     },
     "execution_count": 145,
     "metadata": {},
     "output_type": "execute_result"
    }
   ],
   "source": [
    "result=re.findall(r\"(.+?)\\t.+\\s[13579].+\",string)\n",
    "result"
   ]
  },
  {
   "cell_type": "markdown",
   "id": "4e0affa9",
   "metadata": {},
   "source": [
    "##### in between the double quotes, that will match all the persons (first name only) in the file whose area code is a number less than 300."
   ]
  },
  {
   "cell_type": "code",
   "execution_count": 192,
   "id": "9244827f",
   "metadata": {},
   "outputs": [
    {
     "name": "stdout",
     "output_type": "stream",
     "text": [
      "[('Moriah', '201'), ('Maritza', '295'), ('Shelby', '266'), ('Scarlett', '205')]\n",
      "['Moriah', 'Maritza', 'Shelby', 'Scarlett']\n"
     ]
    }
   ],
   "source": [
    "result=re.findall(r\".+\",string)\n",
    "result1=re.findall(r\"(.+?) .+?\\t\\((1\\d{2}|2\\d{2}|300)\\).+\",string)\n",
    "result2 = re.findall(r\"(.+) .+\\t\\([0-2]\\d\\d\\) .+\", string)\n",
    "print(result1)\n",
    "print(result2)\n",
    "# result"
   ]
  },
  {
   "cell_type": "markdown",
   "id": "8e7d7b8e",
   "metadata": {},
   "source": [
    "##### in between the double quotes, that will match all the persons (first name only) in the file whose last name ends in a vowel (aeiou) and phone number ends in either 0, 7 or 9."
   ]
  },
  {
   "cell_type": "code",
   "execution_count": 214,
   "id": "66b28494",
   "metadata": {},
   "outputs": [
    {
     "data": {
      "text/plain": [
       "['Ismael']"
      ]
     },
     "execution_count": 214,
     "metadata": {},
     "output_type": "execute_result"
    }
   ],
   "source": [
    "result=re.findall(r\".+\",string)\n",
    "result1=re.findall(r\"(\\w+)\\s\\w*[aeiou]\\t.+-\\d*[079]\\b\",string)\n",
    "result1"
   ]
  },
  {
   "cell_type": "code",
   "execution_count": 215,
   "id": "d0c8574a",
   "metadata": {},
   "outputs": [
    {
     "name": "stdout",
     "output_type": "stream",
     "text": [
      "ï»¿Level Date and Time Source Event ID Task Category\n",
      "Critical 1/27/2020 8:19:22 AM Microsoft-Windows-Kernel-Power 41 (63) The system has rebooted without cleanly shutting down first. This error could be caused if the system stopped responding, crashed, or lost power unexpectedly.\n",
      "Critical 1/26/2020 10:09:54 AM Microsoft-Windows-Kernel-Power 41 (63) The system has rebooted without cleanly shutting down first. This error could be caused if the system stopped responding, crashed, or lost power unexpectedly.\n",
      "Critical 1/25/2020 10:12:58 AM Microsoft-Windows-Kernel-Power 41 (63) The system has rebooted without cleanly shutting down first. This error could be caused if the system stopped responding, crashed, or lost power unexpectedly.\n",
      "Error 1/25/2020 10:03:44 AM Microsoft-Windows-WER-SystemErrorReporting 1001 None The computer has rebooted from a bugcheck.  The bugcheck was: 0x0000009f (0x0000000000000003, 0xffff810ec8c31060, 0xfffff80716e687b0, 0xffff810ed30e3c20). A dump was saved in: C:\\WINDOWS\\MEMORY.DMP. Report Id: 7fcfb77c-e4b0-4e3b-b4c7-af9dafdafc7f.\n",
      "Error 1/25/2020 10:03:29 AM TPM 15 None The device driver for the Trusted Platform Module (TPM) encountered a non-recoverable error in the TPM hardware, which prevents TPM services (such as data encryption) from being used. For further help, please contact the computer manufacturer.\n",
      "Critical 1/25/2020 10:03:28 AM Microsoft-Windows-Kernel-Power 41 (63) The system has rebooted without cleanly shutting down first. This error could be caused if the system stopped responding, crashed, or lost power unexpectedly.\n",
      "Critical 1/24/2020 8:04:10 AM Microsoft-Windows-Kernel-Power 41 (63) The system has rebooted without cleanly shutting down first. This error could be caused if the system stopped responding, crashed, or lost power unexpectedly.\n",
      "Error 1/24/2020 8:04:08 AM Microsoft-Windows-Kernel-Boot 29 None Windows failed fast startup with error status 0xC0000001.\n",
      "Error 1/23/2020 11:53:41 PM Microsoft-Windows-DistributedCOM 10010 None The server {4AA0A5C4-1B9B-4F2E-99D7-99C6AEC83474} did not register with DCOM within the required timeout.\n",
      "Critical 1/23/2020 7:59:27 AM Microsoft-Windows-Kernel-Power 41 (63) The system has rebooted without cleanly shutting down first. This error could be caused if the system stopped responding, crashed, or lost power unexpectedly.\n",
      "Error 1/23/2020 7:59:33 AM EventLog 6008 None The previous system shutdown at 12:10:13 AM on â€Ž1/â€Ž23/â€Ž2020 was unexpected.\n",
      "Error 1/23/2020 7:59:25 AM Microsoft-Windows-Kernel-Boot 29 None Windows failed fast startup with error status 0xC0000001.\n",
      "Error 1/23/2020 12:19:14 AM Microsoft-Windows-DistributedCOM 10010 None The server {4AA0A5C4-1B9B-4F2E-99D7-99C6AEC83474} did not register with DCOM within the required timeout.\n",
      "Critical 1/22/2020 7:40:49 AM Microsoft-Windows-Kernel-Power 41 (63) The system has rebooted without cleanly shutting down first. This error could be caused if the system stopped responding, crashed, or lost power unexpectedly.\n",
      "Error 1/22/2020 7:40:46 AM Microsoft-Windows-Kernel-Boot 29 None Windows failed fast startup with error status 0xC0000001.\n",
      "Error 1/22/2020 7:40:55 AM EventLog 6008 None The previous system shutdown at 11:50:39 PM on â€Ž1/â€Ž21/â€Ž2020 was unexpected.\n",
      "Error 1/22/2020 12:03:05 AM Microsoft-Windows-DistributedCOM 10010 None The server {4AA0A5C4-1B9B-4F2E-99D7-99C6AEC83474} did not register with DCOM within the required timeout.\n",
      "Error 1/21/2020 8:31:51 AM Service Control Manager 7000 None \"The Steam Client Service service failed to start due to the following error: \n",
      "The service did not respond to the start or control request in a timely fashion.\"\n",
      "Error 1/21/2020 8:31:51 AM Service Control Manager 7009 None A timeout was reached (30000 milliseconds) while waiting for the Steam Client Service service to connect.\n",
      "Error 1/21/2020 8:31:39 AM Tcpip 4207 None The IPv6 TCP/IP interface with index 13 failed to bind to its provider.\n",
      "Error 1/21/2020 8:30:48 AM Microsoft-Windows-WER-SystemErrorReporting 1001 None The computer has rebooted from a bugcheck.  The bugcheck was: 0x0000009f (0x0000000000000003, 0xffffb8870de1f060, 0xffffb58e3fa3f7b0, 0xffffb88716aad010). A dump was saved in: C:\\WINDOWS\\MEMORY.DMP. Report Id: d5492e55-b096-4be9-8946-79606b0b7df2.\n",
      "Error 1/21/2020 8:30:34 AM TPM 15 None The device driver for the Trusted Platform Module (TPM) encountered a non-recoverable error in the TPM hardware, which prevents TPM services (such as data encryption) from being used. For further help, please contact the computer manufacturer.\n",
      "Critical 1/21/2020 8:30:30 AM Microsoft-Windows-Kernel-Power 41 (63) The system has rebooted without cleanly shutting down first. This error could be caused if the system stopped responding, crashed, or lost power unexpectedly.\n",
      "Error 1/21/2020 8:30:28 AM Microsoft-Windows-Kernel-Boot 29 None Windows failed fast startup with error status 0xC0000001.\n",
      "Error 1/21/2020 8:30:39 AM EventLog 6008 None The previous system shutdown at 11:55:06 PM on â€Ž1/â€Ž20/â€Ž2020 was unexpected.\n",
      "Error 1/20/2020 10:56:01 AM Tcpip 4207 None The IPv6 TCP/IP interface with index 13 failed to bind to its provider.\n",
      "Error 1/20/2020 10:56:01 AM Tcpip 4207 None The IPv4 TCP/IP interface with index 13 failed to bind to its provider.\n",
      "Error 1/20/2020 10:55:24 AM TPM 15 None The device driver for the Trusted Platform Module (TPM) encountered a non-recoverable error in the TPM hardware, which prevents TPM services (such as data encryption) from being used. For further help, please contact the computer manufacturer.\n",
      "Critical 1/20/2020 10:55:22 AM Microsoft-Windows-Kernel-Power 41 (63) The system has rebooted without cleanly shutting down first. This error could be caused if the system stopped responding, crashed, or lost power unexpectedly.\n",
      "Critical 1/20/2020 8:41:34 AM Microsoft-Windows-Kernel-Power 41 (63) The system has rebooted without cleanly shutting down first. This error could be caused if the system stopped responding, crashed, or lost power unexpectedly.\n",
      "Error 1/19/2020 4:23:56 PM Tcpip 4207 None The IPv6 TCP/IP interface with index 13 failed to bind to its provider.\n",
      "Error 1/19/2020 4:23:38 PM Microsoft-Windows-WER-SystemErrorReporting 1001 None The computer has rebooted from a bugcheck.  The bugcheck was: 0x0000009f (0x0000000000000003, 0xffff9588ada3f060, 0xfffff80082e687b0, 0xffff9588b8778c30). A dump was saved in: C:\\WINDOWS\\MEMORY.DMP. Report Id: cea4bd76-9e35-4798-9ea7-6c027be9f1ef.\n",
      "Error 1/19/2020 4:23:05 PM TPM 15 None The device driver for the Trusted Platform Module (TPM) encountered a non-recoverable error in the TPM hardware, which prevents TPM services (such as data encryption) from being used. For further help, please contact the computer manufacturer.\n",
      "Critical 1/19/2020 4:23:04 PM Microsoft-Windows-Kernel-Power 41 (63) The system has rebooted without cleanly shutting down first. This error could be caused if the system stopped responding, crashed, or lost power unexpectedly.\n",
      "Error 1/19/2020 4:23:01 PM Microsoft-Windows-Kernel-Boot 29 None Windows failed fast startup with error status 0xC0000001.\n",
      "Error 1/19/2020 4:23:10 PM EventLog 6008 None The previous system shutdown at 5:15:31 PM on â€Ž1/â€Ž17/â€Ž2020 was unexpected.\n",
      "Error 1/17/2020 7:56:41 AM Tcpip 4207 None The IPv6 TCP/IP interface with index 13 failed to bind to its provider.\n",
      "Error 1/17/2020 7:55:40 AM Microsoft-Windows-WER-SystemErrorReporting 1001 None The computer has rebooted from a bugcheck.  The bugcheck was: 0x0000009f (0x0000000000000003, 0xffffb40fae2b4060, 0xfffff80641e687b0, 0xffffb40fb601b260). A dump was saved in: C:\\WINDOWS\\MEMORY.DMP. Report Id: e879c596-b5c3-422f-a6ad-3718b06c410e.\n",
      "Error 1/17/2020 7:55:26 AM TPM 15 None The device driver for the Trusted Platform Module (TPM) encountered a non-recoverable error in the TPM hardware, which prevents TPM services (such as data encryption) from being used. For further help, please contact the computer manufacturer.\n",
      "Critical 1/17/2020 7:55:24 AM Microsoft-Windows-Kernel-Power 41 (63) The system has rebooted without cleanly shutting down first. This error could be caused if the system stopped responding, crashed, or lost power unexpectedly.\n",
      "Error 1/16/2020 9:34:28 AM Tcpip 4207 None The IPv6 TCP/IP interface with index 13 failed to bind to its provider.\n",
      "Error 1/16/2020 9:32:59 AM Microsoft-Windows-WER-SystemErrorReporting 1001 None The computer has rebooted from a bugcheck.  The bugcheck was: 0x0000009f (0x0000000000000003, 0xffffad0ab1852060, 0xffffac070e03f7b0, 0xffffad0ab47819a0). A dump was saved in: C:\\WINDOWS\\MEMORY.DMP. Report Id: 5203e737-299c-40bd-aeb2-13e3c9f010c0.\n",
      "Error 1/16/2020 9:32:45 AM TPM 15 None The device driver for the Trusted Platform Module (TPM) encountered a non-recoverable error in the TPM hardware, which prevents TPM services (such as data encryption) from being used. For further help, please contact the computer manufacturer.\n",
      "Critical 1/16/2020 9:32:44 AM Microsoft-Windows-Kernel-Power 41 (63) The system has rebooted without cleanly shutting down first. This error could be caused if the system stopped responding, crashed, or lost power unexpectedly.\n",
      "Error 1/15/2020 3:34:14 PM TPM 15 None The device driver for the Trusted Platform Module (TPM) encountered a non-recoverable error in the TPM hardware, which prevents TPM services (such as data encryption) from being used. For further help, please contact the computer manufacturer.\n",
      "Error 1/15/2020 7:17:10 AM VBoxNetLwf 12 None The driver detected an internal driver error on \\Device\\VBoxNetLwf.\n",
      "Critical 1/15/2020 7:17:10 AM Microsoft-Windows-Kernel-Power 41 (63) The system has rebooted without cleanly shutting down first. This error could be caused if the system stopped responding, crashed, or lost power unexpectedly.\n",
      "Critical 1/14/2020 6:49:47 AM Microsoft-Windows-Kernel-Power 41 (63) The system has rebooted without cleanly shutting down first. This error could be caused if the system stopped responding, crashed, or lost power unexpectedly.\n"
     ]
    }
   ],
   "source": [
    "file=open('./logs.txt')\n",
    "string=file.read()\n",
    "print(string)"
   ]
  },
  {
   "cell_type": "markdown",
   "id": "e1b484eb",
   "metadata": {},
   "source": [
    "##### match the Source substring of all the log entries that were generated after 12 PM and before 4 PM, regardless of the severity level and the date."
   ]
  },
  {
   "cell_type": "code",
   "execution_count": 232,
   "id": "a07d9252",
   "metadata": {},
   "outputs": [
    {
     "data": {
      "text/plain": [
       "['TPM']"
      ]
     },
     "execution_count": 232,
     "metadata": {},
     "output_type": "execute_result"
    }
   ],
   "source": [
    "result=re.findall(r\"\\w+\\s.+\\s(?:12|[1-3]):.+\\sPM\\s(.+)\\s\\d\\d\",string)\n",
    "\n",
    "result"
   ]
  },
  {
   "cell_type": "markdown",
   "id": "b129a2a7",
   "metadata": {},
   "source": [
    "##### that will match the Date of all the log entries that have TPM as the Source of the log message."
   ]
  },
  {
   "cell_type": "code",
   "execution_count": 247,
   "id": "92465dea",
   "metadata": {},
   "outputs": [
    {
     "name": "stdout",
     "output_type": "stream",
     "text": [
      "['1/25/2020', '1/21/2020', '1/20/2020', '1/19/2020', '1/17/2020', '1/16/2020', '1/15/2020']\n",
      "['1/25/2020', '1/21/2020', '1/20/2020', '1/19/2020', '1/17/2020', '1/16/2020', '1/15/2020']\n"
     ]
    }
   ],
   "source": [
    "result=re.findall(r\"\\w+\\s(\\d/\\d*/\\d{4})\\s.+[A-Z]{2}\\s\\w{3}\\b\",string)\n",
    "result2=re.findall(r\"\\w+\\s(\\d/\\d*/\\d{4})\\s.+[A-Z]{2}\\sTPM\\b\",string)\n",
    "print(result)\n",
    "print(result2)"
   ]
  },
  {
   "cell_type": "markdown",
   "id": "23ec1ece",
   "metadata": {},
   "source": [
    "##### that will match the Date and Time of all the log entries that have been generated between 24 and 27 of January 2020 and between 8:00:00 and 8:59:59 AM."
   ]
  },
  {
   "cell_type": "code",
   "execution_count": 269,
   "id": "70200453",
   "metadata": {},
   "outputs": [
    {
     "data": {
      "text/plain": [
       "['1/27/2020 8:19:22', '1/24/2020 8:04:10', '1/24/2020 8:04:08']"
      ]
     },
     "execution_count": 269,
     "metadata": {},
     "output_type": "execute_result"
    }
   ],
   "source": [
    "result=re.findall(r\".+\\s\\w+\\s(.+?\\s[A-Z]{2})\",string)\n",
    "result1=re.findall(r\".+\\s\\w+\\s(1/2[4-7]/2020\\s.+?[A-Z]{2})\",string)\n",
    "result2=re.findall(r\".+\\s\\w+\\s(1/2[4-7]/2020\\s8:[0-5][0-9]:.+?)\\sAM\",string)\n",
    "result2"
   ]
  }
 ],
 "metadata": {
  "kernelspec": {
   "display_name": "Python 3",
   "language": "python",
   "name": "python3"
  },
  "language_info": {
   "codemirror_mode": {
    "name": "ipython",
    "version": 3
   },
   "file_extension": ".py",
   "mimetype": "text/x-python",
   "name": "python",
   "nbconvert_exporter": "python",
   "pygments_lexer": "ipython3",
   "version": "3.13.7"
  }
 },
 "nbformat": 4,
 "nbformat_minor": 5
}
